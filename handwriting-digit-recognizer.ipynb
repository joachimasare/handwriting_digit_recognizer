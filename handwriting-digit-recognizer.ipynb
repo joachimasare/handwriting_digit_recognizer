{
 "cells": [
  {
   "cell_type": "code",
   "execution_count": 1,
   "id": "8460a557",
   "metadata": {
    "_cell_guid": "b1076dfc-b9ad-4769-8c92-a6c4dae69d19",
    "_uuid": "8f2839f25d086af736a60e9eeb907d3b93b6e0e5",
    "execution": {
     "iopub.execute_input": "2022-11-21T00:56:21.710416Z",
     "iopub.status.busy": "2022-11-21T00:56:21.709956Z",
     "iopub.status.idle": "2022-11-21T00:56:21.725861Z",
     "shell.execute_reply": "2022-11-21T00:56:21.724352Z"
    },
    "papermill": {
     "duration": 0.027642,
     "end_time": "2022-11-21T00:56:21.728683",
     "exception": false,
     "start_time": "2022-11-21T00:56:21.701041",
     "status": "completed"
    },
    "tags": []
   },
   "outputs": [
    {
     "name": "stdout",
     "output_type": "stream",
     "text": [
      "/kaggle/input/digit-recognizer/sample_submission.csv\n",
      "/kaggle/input/digit-recognizer/train.csv\n",
      "/kaggle/input/digit-recognizer/test.csv\n"
     ]
    }
   ],
   "source": [
    "# This Python 3 environment comes with many helpful analytics libraries installed\n",
    "# It is defined by the kaggle/python Docker image: https://github.com/kaggle/docker-python\n",
    "# For example, here's several helpful packages to load\n",
    "\n",
    "import numpy as np # linear algebra\n",
    "import pandas as pd # data processing, CSV file I/O (e.g. pd.read_csv)\n",
    "\n",
    "\n",
    "\n",
    "\n",
    "# Input data files are available in the read-only \"../input/\" directory\n",
    "# For example, running this (by clicking run or pressing Shift+Enter) will list all files under the input directory\n",
    "\n",
    "import os\n",
    "for dirname, _, filenames in os.walk('/kaggle/input'):\n",
    "    for filename in filenames:\n",
    "        print(os.path.join(dirname, filename))\n",
    "\n",
    "# You can write up to 20GB to the current directory (/kaggle/working/) that gets preserved as output when you create a version using \"Save & Run All\" \n",
    "# You can also write temporary files to /kaggle/temp/, but they won't be saved outside of the current session"
   ]
  },
  {
   "cell_type": "code",
   "execution_count": 2,
   "id": "185a1294",
   "metadata": {
    "execution": {
     "iopub.execute_input": "2022-11-21T00:56:21.744120Z",
     "iopub.status.busy": "2022-11-21T00:56:21.743859Z",
     "iopub.status.idle": "2022-11-21T00:56:33.496795Z",
     "shell.execute_reply": "2022-11-21T00:56:33.495651Z"
    },
    "papermill": {
     "duration": 11.762914,
     "end_time": "2022-11-21T00:56:33.499209",
     "exception": false,
     "start_time": "2022-11-21T00:56:21.736295",
     "status": "completed"
    },
    "tags": []
   },
   "outputs": [],
   "source": [
    "#importing libraries to be used\n",
    "import tensorflow as tf\n",
    "import numpy as np\n",
    "import math\n",
    "import datetime\n",
    "import platform\n",
    "import seaborn as sns\n",
    "from tensorflow import keras\n",
    "from tensorflow.keras import layers\n",
    "keras.backend.set_image_data_format('channels_last')\n",
    "import matplotlib.pyplot as plt\n",
    "from sklearn.model_selection import train_test_split\n",
    "from sklearn.metrics import classification_report,confusion_matrix\n",
    "from tensorflow.keras.models import Sequential\n",
    "from tensorflow.keras.layers import Dense, Dropout, Conv2D, MaxPool2D, Flatten, BatchNormalization\n",
    "from tensorflow.keras.optimizers import RMSprop\n",
    "from tensorflow.keras.preprocessing.image import ImageDataGenerator\n",
    "from tensorflow.keras.callbacks import ReduceLROnPlateau, CSVLogger\n"
   ]
  },
  {
   "cell_type": "code",
   "execution_count": 3,
   "id": "f243de25",
   "metadata": {
    "execution": {
     "iopub.execute_input": "2022-11-21T00:56:33.514144Z",
     "iopub.status.busy": "2022-11-21T00:56:33.513597Z",
     "iopub.status.idle": "2022-11-21T00:56:38.457491Z",
     "shell.execute_reply": "2022-11-21T00:56:38.456483Z"
    },
    "papermill": {
     "duration": 4.953797,
     "end_time": "2022-11-21T00:56:38.459922",
     "exception": false,
     "start_time": "2022-11-21T00:56:33.506125",
     "status": "completed"
    },
    "tags": []
   },
   "outputs": [],
   "source": [
    "#loading training and test set provided\n",
    "train_set = pd.read_csv('../input/digit-recognizer/train.csv')\n",
    "test_set = pd.read_csv('../input/digit-recognizer/test.csv')\n"
   ]
  },
  {
   "cell_type": "code",
   "execution_count": 4,
   "id": "3671437e",
   "metadata": {
    "execution": {
     "iopub.execute_input": "2022-11-21T00:56:38.474259Z",
     "iopub.status.busy": "2022-11-21T00:56:38.473974Z",
     "iopub.status.idle": "2022-11-21T00:56:38.480440Z",
     "shell.execute_reply": "2022-11-21T00:56:38.479365Z"
    },
    "papermill": {
     "duration": 0.016389,
     "end_time": "2022-11-21T00:56:38.482979",
     "exception": false,
     "start_time": "2022-11-21T00:56:38.466590",
     "status": "completed"
    },
    "tags": []
   },
   "outputs": [
    {
     "name": "stdout",
     "output_type": "stream",
     "text": [
      "(42000, 785)\n"
     ]
    }
   ],
   "source": [
    "#checking the shape of train dataset\n",
    "print(train_set.shape)"
   ]
  },
  {
   "cell_type": "code",
   "execution_count": 5,
   "id": "05fb4486",
   "metadata": {
    "execution": {
     "iopub.execute_input": "2022-11-21T00:56:38.497449Z",
     "iopub.status.busy": "2022-11-21T00:56:38.497124Z",
     "iopub.status.idle": "2022-11-21T00:56:38.524131Z",
     "shell.execute_reply": "2022-11-21T00:56:38.523201Z"
    },
    "papermill": {
     "duration": 0.03664,
     "end_time": "2022-11-21T00:56:38.526138",
     "exception": false,
     "start_time": "2022-11-21T00:56:38.489498",
     "status": "completed"
    },
    "tags": []
   },
   "outputs": [
    {
     "data": {
      "text/html": [
       "<div>\n",
       "<style scoped>\n",
       "    .dataframe tbody tr th:only-of-type {\n",
       "        vertical-align: middle;\n",
       "    }\n",
       "\n",
       "    .dataframe tbody tr th {\n",
       "        vertical-align: top;\n",
       "    }\n",
       "\n",
       "    .dataframe thead th {\n",
       "        text-align: right;\n",
       "    }\n",
       "</style>\n",
       "<table border=\"1\" class=\"dataframe\">\n",
       "  <thead>\n",
       "    <tr style=\"text-align: right;\">\n",
       "      <th></th>\n",
       "      <th>label</th>\n",
       "      <th>pixel0</th>\n",
       "      <th>pixel1</th>\n",
       "      <th>pixel2</th>\n",
       "      <th>pixel3</th>\n",
       "      <th>pixel4</th>\n",
       "      <th>pixel5</th>\n",
       "      <th>pixel6</th>\n",
       "      <th>pixel7</th>\n",
       "      <th>pixel8</th>\n",
       "      <th>...</th>\n",
       "      <th>pixel774</th>\n",
       "      <th>pixel775</th>\n",
       "      <th>pixel776</th>\n",
       "      <th>pixel777</th>\n",
       "      <th>pixel778</th>\n",
       "      <th>pixel779</th>\n",
       "      <th>pixel780</th>\n",
       "      <th>pixel781</th>\n",
       "      <th>pixel782</th>\n",
       "      <th>pixel783</th>\n",
       "    </tr>\n",
       "  </thead>\n",
       "  <tbody>\n",
       "    <tr>\n",
       "      <th>0</th>\n",
       "      <td>1</td>\n",
       "      <td>0</td>\n",
       "      <td>0</td>\n",
       "      <td>0</td>\n",
       "      <td>0</td>\n",
       "      <td>0</td>\n",
       "      <td>0</td>\n",
       "      <td>0</td>\n",
       "      <td>0</td>\n",
       "      <td>0</td>\n",
       "      <td>...</td>\n",
       "      <td>0</td>\n",
       "      <td>0</td>\n",
       "      <td>0</td>\n",
       "      <td>0</td>\n",
       "      <td>0</td>\n",
       "      <td>0</td>\n",
       "      <td>0</td>\n",
       "      <td>0</td>\n",
       "      <td>0</td>\n",
       "      <td>0</td>\n",
       "    </tr>\n",
       "    <tr>\n",
       "      <th>1</th>\n",
       "      <td>0</td>\n",
       "      <td>0</td>\n",
       "      <td>0</td>\n",
       "      <td>0</td>\n",
       "      <td>0</td>\n",
       "      <td>0</td>\n",
       "      <td>0</td>\n",
       "      <td>0</td>\n",
       "      <td>0</td>\n",
       "      <td>0</td>\n",
       "      <td>...</td>\n",
       "      <td>0</td>\n",
       "      <td>0</td>\n",
       "      <td>0</td>\n",
       "      <td>0</td>\n",
       "      <td>0</td>\n",
       "      <td>0</td>\n",
       "      <td>0</td>\n",
       "      <td>0</td>\n",
       "      <td>0</td>\n",
       "      <td>0</td>\n",
       "    </tr>\n",
       "    <tr>\n",
       "      <th>2</th>\n",
       "      <td>1</td>\n",
       "      <td>0</td>\n",
       "      <td>0</td>\n",
       "      <td>0</td>\n",
       "      <td>0</td>\n",
       "      <td>0</td>\n",
       "      <td>0</td>\n",
       "      <td>0</td>\n",
       "      <td>0</td>\n",
       "      <td>0</td>\n",
       "      <td>...</td>\n",
       "      <td>0</td>\n",
       "      <td>0</td>\n",
       "      <td>0</td>\n",
       "      <td>0</td>\n",
       "      <td>0</td>\n",
       "      <td>0</td>\n",
       "      <td>0</td>\n",
       "      <td>0</td>\n",
       "      <td>0</td>\n",
       "      <td>0</td>\n",
       "    </tr>\n",
       "    <tr>\n",
       "      <th>3</th>\n",
       "      <td>4</td>\n",
       "      <td>0</td>\n",
       "      <td>0</td>\n",
       "      <td>0</td>\n",
       "      <td>0</td>\n",
       "      <td>0</td>\n",
       "      <td>0</td>\n",
       "      <td>0</td>\n",
       "      <td>0</td>\n",
       "      <td>0</td>\n",
       "      <td>...</td>\n",
       "      <td>0</td>\n",
       "      <td>0</td>\n",
       "      <td>0</td>\n",
       "      <td>0</td>\n",
       "      <td>0</td>\n",
       "      <td>0</td>\n",
       "      <td>0</td>\n",
       "      <td>0</td>\n",
       "      <td>0</td>\n",
       "      <td>0</td>\n",
       "    </tr>\n",
       "    <tr>\n",
       "      <th>4</th>\n",
       "      <td>0</td>\n",
       "      <td>0</td>\n",
       "      <td>0</td>\n",
       "      <td>0</td>\n",
       "      <td>0</td>\n",
       "      <td>0</td>\n",
       "      <td>0</td>\n",
       "      <td>0</td>\n",
       "      <td>0</td>\n",
       "      <td>0</td>\n",
       "      <td>...</td>\n",
       "      <td>0</td>\n",
       "      <td>0</td>\n",
       "      <td>0</td>\n",
       "      <td>0</td>\n",
       "      <td>0</td>\n",
       "      <td>0</td>\n",
       "      <td>0</td>\n",
       "      <td>0</td>\n",
       "      <td>0</td>\n",
       "      <td>0</td>\n",
       "    </tr>\n",
       "  </tbody>\n",
       "</table>\n",
       "<p>5 rows × 785 columns</p>\n",
       "</div>"
      ],
      "text/plain": [
       "   label  pixel0  pixel1  pixel2  pixel3  pixel4  pixel5  pixel6  pixel7  \\\n",
       "0      1       0       0       0       0       0       0       0       0   \n",
       "1      0       0       0       0       0       0       0       0       0   \n",
       "2      1       0       0       0       0       0       0       0       0   \n",
       "3      4       0       0       0       0       0       0       0       0   \n",
       "4      0       0       0       0       0       0       0       0       0   \n",
       "\n",
       "   pixel8  ...  pixel774  pixel775  pixel776  pixel777  pixel778  pixel779  \\\n",
       "0       0  ...         0         0         0         0         0         0   \n",
       "1       0  ...         0         0         0         0         0         0   \n",
       "2       0  ...         0         0         0         0         0         0   \n",
       "3       0  ...         0         0         0         0         0         0   \n",
       "4       0  ...         0         0         0         0         0         0   \n",
       "\n",
       "   pixel780  pixel781  pixel782  pixel783  \n",
       "0         0         0         0         0  \n",
       "1         0         0         0         0  \n",
       "2         0         0         0         0  \n",
       "3         0         0         0         0  \n",
       "4         0         0         0         0  \n",
       "\n",
       "[5 rows x 785 columns]"
      ]
     },
     "execution_count": 5,
     "metadata": {},
     "output_type": "execute_result"
    }
   ],
   "source": [
    "#visualize strucutre of test set\n",
    "train_set.head()"
   ]
  },
  {
   "cell_type": "code",
   "execution_count": 6,
   "id": "9486aa56",
   "metadata": {
    "execution": {
     "iopub.execute_input": "2022-11-21T00:56:38.542226Z",
     "iopub.status.busy": "2022-11-21T00:56:38.541967Z",
     "iopub.status.idle": "2022-11-21T00:56:38.556232Z",
     "shell.execute_reply": "2022-11-21T00:56:38.555351Z"
    },
    "papermill": {
     "duration": 0.024125,
     "end_time": "2022-11-21T00:56:38.558158",
     "exception": false,
     "start_time": "2022-11-21T00:56:38.534033",
     "status": "completed"
    },
    "tags": []
   },
   "outputs": [
    {
     "data": {
      "text/html": [
       "<div>\n",
       "<style scoped>\n",
       "    .dataframe tbody tr th:only-of-type {\n",
       "        vertical-align: middle;\n",
       "    }\n",
       "\n",
       "    .dataframe tbody tr th {\n",
       "        vertical-align: top;\n",
       "    }\n",
       "\n",
       "    .dataframe thead th {\n",
       "        text-align: right;\n",
       "    }\n",
       "</style>\n",
       "<table border=\"1\" class=\"dataframe\">\n",
       "  <thead>\n",
       "    <tr style=\"text-align: right;\">\n",
       "      <th></th>\n",
       "      <th>pixel0</th>\n",
       "      <th>pixel1</th>\n",
       "      <th>pixel2</th>\n",
       "      <th>pixel3</th>\n",
       "      <th>pixel4</th>\n",
       "      <th>pixel5</th>\n",
       "      <th>pixel6</th>\n",
       "      <th>pixel7</th>\n",
       "      <th>pixel8</th>\n",
       "      <th>pixel9</th>\n",
       "      <th>...</th>\n",
       "      <th>pixel774</th>\n",
       "      <th>pixel775</th>\n",
       "      <th>pixel776</th>\n",
       "      <th>pixel777</th>\n",
       "      <th>pixel778</th>\n",
       "      <th>pixel779</th>\n",
       "      <th>pixel780</th>\n",
       "      <th>pixel781</th>\n",
       "      <th>pixel782</th>\n",
       "      <th>pixel783</th>\n",
       "    </tr>\n",
       "  </thead>\n",
       "  <tbody>\n",
       "    <tr>\n",
       "      <th>0</th>\n",
       "      <td>0</td>\n",
       "      <td>0</td>\n",
       "      <td>0</td>\n",
       "      <td>0</td>\n",
       "      <td>0</td>\n",
       "      <td>0</td>\n",
       "      <td>0</td>\n",
       "      <td>0</td>\n",
       "      <td>0</td>\n",
       "      <td>0</td>\n",
       "      <td>...</td>\n",
       "      <td>0</td>\n",
       "      <td>0</td>\n",
       "      <td>0</td>\n",
       "      <td>0</td>\n",
       "      <td>0</td>\n",
       "      <td>0</td>\n",
       "      <td>0</td>\n",
       "      <td>0</td>\n",
       "      <td>0</td>\n",
       "      <td>0</td>\n",
       "    </tr>\n",
       "    <tr>\n",
       "      <th>1</th>\n",
       "      <td>0</td>\n",
       "      <td>0</td>\n",
       "      <td>0</td>\n",
       "      <td>0</td>\n",
       "      <td>0</td>\n",
       "      <td>0</td>\n",
       "      <td>0</td>\n",
       "      <td>0</td>\n",
       "      <td>0</td>\n",
       "      <td>0</td>\n",
       "      <td>...</td>\n",
       "      <td>0</td>\n",
       "      <td>0</td>\n",
       "      <td>0</td>\n",
       "      <td>0</td>\n",
       "      <td>0</td>\n",
       "      <td>0</td>\n",
       "      <td>0</td>\n",
       "      <td>0</td>\n",
       "      <td>0</td>\n",
       "      <td>0</td>\n",
       "    </tr>\n",
       "    <tr>\n",
       "      <th>2</th>\n",
       "      <td>0</td>\n",
       "      <td>0</td>\n",
       "      <td>0</td>\n",
       "      <td>0</td>\n",
       "      <td>0</td>\n",
       "      <td>0</td>\n",
       "      <td>0</td>\n",
       "      <td>0</td>\n",
       "      <td>0</td>\n",
       "      <td>0</td>\n",
       "      <td>...</td>\n",
       "      <td>0</td>\n",
       "      <td>0</td>\n",
       "      <td>0</td>\n",
       "      <td>0</td>\n",
       "      <td>0</td>\n",
       "      <td>0</td>\n",
       "      <td>0</td>\n",
       "      <td>0</td>\n",
       "      <td>0</td>\n",
       "      <td>0</td>\n",
       "    </tr>\n",
       "    <tr>\n",
       "      <th>3</th>\n",
       "      <td>0</td>\n",
       "      <td>0</td>\n",
       "      <td>0</td>\n",
       "      <td>0</td>\n",
       "      <td>0</td>\n",
       "      <td>0</td>\n",
       "      <td>0</td>\n",
       "      <td>0</td>\n",
       "      <td>0</td>\n",
       "      <td>0</td>\n",
       "      <td>...</td>\n",
       "      <td>0</td>\n",
       "      <td>0</td>\n",
       "      <td>0</td>\n",
       "      <td>0</td>\n",
       "      <td>0</td>\n",
       "      <td>0</td>\n",
       "      <td>0</td>\n",
       "      <td>0</td>\n",
       "      <td>0</td>\n",
       "      <td>0</td>\n",
       "    </tr>\n",
       "    <tr>\n",
       "      <th>4</th>\n",
       "      <td>0</td>\n",
       "      <td>0</td>\n",
       "      <td>0</td>\n",
       "      <td>0</td>\n",
       "      <td>0</td>\n",
       "      <td>0</td>\n",
       "      <td>0</td>\n",
       "      <td>0</td>\n",
       "      <td>0</td>\n",
       "      <td>0</td>\n",
       "      <td>...</td>\n",
       "      <td>0</td>\n",
       "      <td>0</td>\n",
       "      <td>0</td>\n",
       "      <td>0</td>\n",
       "      <td>0</td>\n",
       "      <td>0</td>\n",
       "      <td>0</td>\n",
       "      <td>0</td>\n",
       "      <td>0</td>\n",
       "      <td>0</td>\n",
       "    </tr>\n",
       "  </tbody>\n",
       "</table>\n",
       "<p>5 rows × 784 columns</p>\n",
       "</div>"
      ],
      "text/plain": [
       "   pixel0  pixel1  pixel2  pixel3  pixel4  pixel5  pixel6  pixel7  pixel8  \\\n",
       "0       0       0       0       0       0       0       0       0       0   \n",
       "1       0       0       0       0       0       0       0       0       0   \n",
       "2       0       0       0       0       0       0       0       0       0   \n",
       "3       0       0       0       0       0       0       0       0       0   \n",
       "4       0       0       0       0       0       0       0       0       0   \n",
       "\n",
       "   pixel9  ...  pixel774  pixel775  pixel776  pixel777  pixel778  pixel779  \\\n",
       "0       0  ...         0         0         0         0         0         0   \n",
       "1       0  ...         0         0         0         0         0         0   \n",
       "2       0  ...         0         0         0         0         0         0   \n",
       "3       0  ...         0         0         0         0         0         0   \n",
       "4       0  ...         0         0         0         0         0         0   \n",
       "\n",
       "   pixel780  pixel781  pixel782  pixel783  \n",
       "0         0         0         0         0  \n",
       "1         0         0         0         0  \n",
       "2         0         0         0         0  \n",
       "3         0         0         0         0  \n",
       "4         0         0         0         0  \n",
       "\n",
       "[5 rows x 784 columns]"
      ]
     },
     "execution_count": 6,
     "metadata": {},
     "output_type": "execute_result"
    }
   ],
   "source": [
    "#visualize strucutre of test set\n",
    "test_set.head()"
   ]
  },
  {
   "cell_type": "code",
   "execution_count": 7,
   "id": "d87a894f",
   "metadata": {
    "execution": {
     "iopub.execute_input": "2022-11-21T00:56:38.573645Z",
     "iopub.status.busy": "2022-11-21T00:56:38.572674Z",
     "iopub.status.idle": "2022-11-21T00:56:38.739837Z",
     "shell.execute_reply": "2022-11-21T00:56:38.738808Z"
    },
    "papermill": {
     "duration": 0.177556,
     "end_time": "2022-11-21T00:56:38.742489",
     "exception": false,
     "start_time": "2022-11-21T00:56:38.564933",
     "status": "completed"
    },
    "tags": []
   },
   "outputs": [],
   "source": [
    "#based on visualization above:\n",
    "y_train = train_set['label'] #y_train is column titled label which has outputs(y)\n",
    "del train_set['label'] #delete outputs y from dataset\n",
    "x_train = train_set.values #x_train now dataset without 'label' column\n",
    "#extract test set data\n",
    "x_test = test_set.values #values in dataframe of test_set assigned to 'x_test'\n"
   ]
  },
  {
   "cell_type": "code",
   "execution_count": 8,
   "id": "43926795",
   "metadata": {
    "execution": {
     "iopub.execute_input": "2022-11-21T00:56:38.758049Z",
     "iopub.status.busy": "2022-11-21T00:56:38.757757Z",
     "iopub.status.idle": "2022-11-21T00:56:38.763351Z",
     "shell.execute_reply": "2022-11-21T00:56:38.762358Z"
    },
    "papermill": {
     "duration": 0.015785,
     "end_time": "2022-11-21T00:56:38.765436",
     "exception": false,
     "start_time": "2022-11-21T00:56:38.749651",
     "status": "completed"
    },
    "tags": []
   },
   "outputs": [],
   "source": [
    "#transform categorical data in y_train to a numpy array (binary class matrix)\n",
    "y_train = tf.keras.utils.to_categorical(\n",
    "    y_train, num_classes=10, dtype='float32'\n",
    ")"
   ]
  },
  {
   "cell_type": "code",
   "execution_count": 9,
   "id": "c53dfec5",
   "metadata": {
    "execution": {
     "iopub.execute_input": "2022-11-21T00:56:38.780030Z",
     "iopub.status.busy": "2022-11-21T00:56:38.779783Z",
     "iopub.status.idle": "2022-11-21T00:56:38.786094Z",
     "shell.execute_reply": "2022-11-21T00:56:38.785113Z"
    },
    "papermill": {
     "duration": 0.016881,
     "end_time": "2022-11-21T00:56:38.789180",
     "exception": false,
     "start_time": "2022-11-21T00:56:38.772299",
     "status": "completed"
    },
    "tags": []
   },
   "outputs": [
    {
     "data": {
      "text/plain": [
       "array([[0., 1., 0., ..., 0., 0., 0.],\n",
       "       [1., 0., 0., ..., 0., 0., 0.],\n",
       "       [0., 1., 0., ..., 0., 0., 0.],\n",
       "       ...,\n",
       "       [0., 0., 0., ..., 1., 0., 0.],\n",
       "       [0., 0., 0., ..., 0., 0., 0.],\n",
       "       [0., 0., 0., ..., 0., 0., 1.]], dtype=float32)"
      ]
     },
     "execution_count": 9,
     "metadata": {},
     "output_type": "execute_result"
    }
   ],
   "source": [
    "#view y_train\n",
    "y_train"
   ]
  },
  {
   "cell_type": "code",
   "execution_count": 10,
   "id": "9b40e7a4",
   "metadata": {
    "execution": {
     "iopub.execute_input": "2022-11-21T00:56:38.803942Z",
     "iopub.status.busy": "2022-11-21T00:56:38.803682Z",
     "iopub.status.idle": "2022-11-21T00:56:38.962836Z",
     "shell.execute_reply": "2022-11-21T00:56:38.961792Z"
    },
    "papermill": {
     "duration": 0.169485,
     "end_time": "2022-11-21T00:56:38.965478",
     "exception": false,
     "start_time": "2022-11-21T00:56:38.795993",
     "status": "completed"
    },
    "tags": []
   },
   "outputs": [],
   "source": [
    "# Normalize the data\n",
    "x_train = x_train / 255\n",
    "x_test = x_test / 255\n",
    "\n",
    "#reshaping data \n",
    "x_train = x_train.reshape(-1,28,28,1)\n",
    "x_test = x_test.reshape(-1,28,28,1)\n"
   ]
  },
  {
   "cell_type": "code",
   "execution_count": 11,
   "id": "773db086",
   "metadata": {
    "execution": {
     "iopub.execute_input": "2022-11-21T00:56:38.981834Z",
     "iopub.status.busy": "2022-11-21T00:56:38.981533Z",
     "iopub.status.idle": "2022-11-21T00:56:39.436836Z",
     "shell.execute_reply": "2022-11-21T00:56:39.435684Z"
    },
    "papermill": {
     "duration": 0.466295,
     "end_time": "2022-11-21T00:56:39.439858",
     "exception": false,
     "start_time": "2022-11-21T00:56:38.973563",
     "status": "completed"
    },
    "tags": []
   },
   "outputs": [],
   "source": [
    "#training(90%) and validation(10%) data split\n",
    "x_train,x_val,y_train,y_val = train_test_split(x_train,\n",
    "                                               y_train,\n",
    "                                               test_size = 0.1,\n",
    "                                               random_state = 0)"
   ]
  },
  {
   "cell_type": "code",
   "execution_count": 12,
   "id": "17cf0d95",
   "metadata": {
    "execution": {
     "iopub.execute_input": "2022-11-21T00:56:39.466576Z",
     "iopub.status.busy": "2022-11-21T00:56:39.466114Z",
     "iopub.status.idle": "2022-11-21T00:56:39.470345Z",
     "shell.execute_reply": "2022-11-21T00:56:39.469452Z"
    },
    "papermill": {
     "duration": 0.019777,
     "end_time": "2022-11-21T00:56:39.472626",
     "exception": false,
     "start_time": "2022-11-21T00:56:39.452849",
     "status": "completed"
    },
    "tags": []
   },
   "outputs": [],
   "source": [
    "#creating noise data to reduce overfitting and generalize more\n",
    "#noise = np.random.randint(0,100, (len(x_train),784))"
   ]
  },
  {
   "cell_type": "code",
   "execution_count": 13,
   "id": "0a58c610",
   "metadata": {
    "execution": {
     "iopub.execute_input": "2022-11-21T00:56:39.495387Z",
     "iopub.status.busy": "2022-11-21T00:56:39.495069Z",
     "iopub.status.idle": "2022-11-21T00:56:39.498912Z",
     "shell.execute_reply": "2022-11-21T00:56:39.498077Z"
    },
    "papermill": {
     "duration": 0.017416,
     "end_time": "2022-11-21T00:56:39.500787",
     "exception": false,
     "start_time": "2022-11-21T00:56:39.483371",
     "status": "completed"
    },
    "tags": []
   },
   "outputs": [],
   "source": [
    "#adding noise to x_train\n",
    "#x_train = x_train+noise"
   ]
  },
  {
   "cell_type": "code",
   "execution_count": 14,
   "id": "5220bf66",
   "metadata": {
    "execution": {
     "iopub.execute_input": "2022-11-21T00:56:39.523020Z",
     "iopub.status.busy": "2022-11-21T00:56:39.522696Z",
     "iopub.status.idle": "2022-11-21T00:56:39.528702Z",
     "shell.execute_reply": "2022-11-21T00:56:39.527286Z"
    },
    "papermill": {
     "duration": 0.019864,
     "end_time": "2022-11-21T00:56:39.530721",
     "exception": false,
     "start_time": "2022-11-21T00:56:39.510857",
     "status": "completed"
    },
    "tags": []
   },
   "outputs": [
    {
     "name": "stdout",
     "output_type": "stream",
     "text": [
      "(37800, 28, 28, 1)\n",
      "(37800, 10)\n",
      "(4200, 28, 28, 1)\n",
      "(4200, 10)\n"
     ]
    }
   ],
   "source": [
    "print(x_train.shape)\n",
    "print(y_train.shape)\n",
    "print(x_val.shape)\n",
    "print(y_val.shape)"
   ]
  },
  {
   "cell_type": "code",
   "execution_count": 15,
   "id": "cee94b36",
   "metadata": {
    "execution": {
     "iopub.execute_input": "2022-11-21T00:56:39.553607Z",
     "iopub.status.busy": "2022-11-21T00:56:39.553293Z",
     "iopub.status.idle": "2022-11-21T00:56:40.638264Z",
     "shell.execute_reply": "2022-11-21T00:56:40.637264Z"
    },
    "papermill": {
     "duration": 1.098918,
     "end_time": "2022-11-21T00:56:40.640509",
     "exception": false,
     "start_time": "2022-11-21T00:56:39.541591",
     "status": "completed"
    },
    "tags": []
   },
   "outputs": [
    {
     "data": {
      "image/png": "[encoded data removed]",
      "text/plain": [
       "<Figure size 720x720 with 10 Axes>"
      ]
     },
     "metadata": {
      "needs_background": "light"
     },
     "output_type": "display_data"
    }
   ],
   "source": [
    "#visualize train_set images\n",
    "f, ax = plt.subplots(2,5) \n",
    "f.set_size_inches(10, 10)\n",
    "k = 0\n",
    "for i in range(2):\n",
    "    for j in range(5):\n",
    "        ax[i,j].imshow(x_train[k].reshape(28, 28) , cmap = \"gray\")\n",
    "        k += 1\n",
    "    plt.tight_layout()"
   ]
  },
  {
   "cell_type": "code",
   "execution_count": 16,
   "id": "110ece15",
   "metadata": {
    "execution": {
     "iopub.execute_input": "2022-11-21T00:56:40.657389Z",
     "iopub.status.busy": "2022-11-21T00:56:40.656527Z",
     "iopub.status.idle": "2022-11-21T00:56:40.662225Z",
     "shell.execute_reply": "2022-11-21T00:56:40.661129Z"
    },
    "papermill": {
     "duration": 0.016461,
     "end_time": "2022-11-21T00:56:40.664546",
     "exception": false,
     "start_time": "2022-11-21T00:56:40.648085",
     "status": "completed"
    },
    "tags": []
   },
   "outputs": [],
   "source": [
    "#including data augmentation using imagedatagenerator\n",
    "data_generator = ImageDataGenerator(\n",
    "        rotation_range=10,  # randomly rotate images in the range (degrees, 0 to 180)\n",
    "        zoom_range = 0.1, # Randomly zoom image by 10%\n",
    "        width_shift_range=0.11,  # randomly shift width horizontally by 10%\n",
    "        height_shift_range=0.11,  # randomly shift width horizontally by 10%\n",
    "        )  \n",
    "\n",
    "\n"
   ]
  },
  {
   "cell_type": "code",
   "execution_count": 17,
   "id": "8140e194",
   "metadata": {
    "execution": {
     "iopub.execute_input": "2022-11-21T00:56:40.680835Z",
     "iopub.status.busy": "2022-11-21T00:56:40.680540Z",
     "iopub.status.idle": "2022-11-21T00:56:40.770116Z",
     "shell.execute_reply": "2022-11-21T00:56:40.769062Z"
    },
    "papermill": {
     "duration": 0.100579,
     "end_time": "2022-11-21T00:56:40.772604",
     "exception": false,
     "start_time": "2022-11-21T00:56:40.672025",
     "status": "completed"
    },
    "tags": []
   },
   "outputs": [],
   "source": [
    "data_generator.fit(x_train) #include augmented data to processed training set"
   ]
  },
  {
   "cell_type": "code",
   "execution_count": 18,
   "id": "e71c7c76",
   "metadata": {
    "execution": {
     "iopub.execute_input": "2022-11-21T00:56:40.789035Z",
     "iopub.status.busy": "2022-11-21T00:56:40.788730Z",
     "iopub.status.idle": "2022-11-21T00:56:40.793162Z",
     "shell.execute_reply": "2022-11-21T00:56:40.792203Z"
    },
    "papermill": {
     "duration": 0.014733,
     "end_time": "2022-11-21T00:56:40.795143",
     "exception": false,
     "start_time": "2022-11-21T00:56:40.780410",
     "status": "completed"
    },
    "tags": []
   },
   "outputs": [],
   "source": [
    "#using ReduceLROnPlateau for better val accuratcy\n",
    "learning_rate_reduction = ReduceLROnPlateau(monitor='val_accuracy', patience = 3, verbose=1,factor=0.5, min_lr=0.00001)"
   ]
  },
  {
   "cell_type": "code",
   "execution_count": 19,
   "id": "e804fe6b",
   "metadata": {
    "execution": {
     "iopub.execute_input": "2022-11-21T00:56:40.810514Z",
     "iopub.status.busy": "2022-11-21T00:56:40.810233Z",
     "iopub.status.idle": "2022-11-21T00:56:46.284163Z",
     "shell.execute_reply": "2022-11-21T00:56:46.282073Z"
    },
    "papermill": {
     "duration": 5.484144,
     "end_time": "2022-11-21T00:56:46.286489",
     "exception": false,
     "start_time": "2022-11-21T00:56:40.802345",
     "status": "completed"
    },
    "tags": []
   },
   "outputs": [
    {
     "name": "stderr",
     "output_type": "stream",
     "text": [
      "2022-11-21 00:56:40.966257: I tensorflow/stream_executor/cuda/cuda_gpu_executor.cc:937] successful NUMA node read from SysFS had negative value (-1), but there must be at least one NUMA node, so returning NUMA node zero\n",
      "2022-11-21 00:56:40.967197: I tensorflow/stream_executor/cuda/cuda_gpu_executor.cc:937] successful NUMA node read from SysFS had negative value (-1), but there must be at least one NUMA node, so returning NUMA node zero\n",
      "2022-11-21 00:56:41.200509: I tensorflow/stream_executor/cuda/cuda_gpu_executor.cc:937] successful NUMA node read from SysFS had negative value (-1), but there must be at least one NUMA node, so returning NUMA node zero\n",
      "2022-11-21 00:56:41.201314: I tensorflow/stream_executor/cuda/cuda_gpu_executor.cc:937] successful NUMA node read from SysFS had negative value (-1), but there must be at least one NUMA node, so returning NUMA node zero\n",
      "2022-11-21 00:56:41.202062: I tensorflow/stream_executor/cuda/cuda_gpu_executor.cc:937] successful NUMA node read from SysFS had negative value (-1), but there must be at least one NUMA node, so returning NUMA node zero\n",
      "2022-11-21 00:56:41.202786: I tensorflow/stream_executor/cuda/cuda_gpu_executor.cc:937] successful NUMA node read from SysFS had negative value (-1), but there must be at least one NUMA node, so returning NUMA node zero\n",
      "2022-11-21 00:56:41.204712: I tensorflow/core/platform/cpu_feature_guard.cc:142] This TensorFlow binary is optimized with oneAPI Deep Neural Network Library (oneDNN) to use the following CPU instructions in performance-critical operations:  AVX2 AVX512F FMA\n",
      "To enable them in other operations, rebuild TensorFlow with the appropriate compiler flags.\n",
      "2022-11-21 00:56:41.446180: I tensorflow/stream_executor/cuda/cuda_gpu_executor.cc:937] successful NUMA node read from SysFS had negative value (-1), but there must be at least one NUMA node, so returning NUMA node zero\n",
      "2022-11-21 00:56:41.447227: I tensorflow/stream_executor/cuda/cuda_gpu_executor.cc:937] successful NUMA node read from SysFS had negative value (-1), but there must be at least one NUMA node, so returning NUMA node zero\n",
      "2022-11-21 00:56:41.448079: I tensorflow/stream_executor/cuda/cuda_gpu_executor.cc:937] successful NUMA node read from SysFS had negative value (-1), but there must be at least one NUMA node, so returning NUMA node zero\n",
      "2022-11-21 00:56:41.448873: I tensorflow/stream_executor/cuda/cuda_gpu_executor.cc:937] successful NUMA node read from SysFS had negative value (-1), but there must be at least one NUMA node, so returning NUMA node zero\n",
      "2022-11-21 00:56:41.449622: I tensorflow/stream_executor/cuda/cuda_gpu_executor.cc:937] successful NUMA node read from SysFS had negative value (-1), but there must be at least one NUMA node, so returning NUMA node zero\n",
      "2022-11-21 00:56:41.450380: I tensorflow/stream_executor/cuda/cuda_gpu_executor.cc:937] successful NUMA node read from SysFS had negative value (-1), but there must be at least one NUMA node, so returning NUMA node zero\n",
      "2022-11-21 00:56:45.735656: I tensorflow/stream_executor/cuda/cuda_gpu_executor.cc:937] successful NUMA node read from SysFS had negative value (-1), but there must be at least one NUMA node, so returning NUMA node zero\n",
      "2022-11-21 00:56:45.736657: I tensorflow/stream_executor/cuda/cuda_gpu_executor.cc:937] successful NUMA node read from SysFS had negative value (-1), but there must be at least one NUMA node, so returning NUMA node zero\n",
      "2022-11-21 00:56:45.737479: I tensorflow/stream_executor/cuda/cuda_gpu_executor.cc:937] successful NUMA node read from SysFS had negative value (-1), but there must be at least one NUMA node, so returning NUMA node zero\n",
      "2022-11-21 00:56:45.738213: I tensorflow/stream_executor/cuda/cuda_gpu_executor.cc:937] successful NUMA node read from SysFS had negative value (-1), but there must be at least one NUMA node, so returning NUMA node zero\n",
      "2022-11-21 00:56:45.739003: I tensorflow/stream_executor/cuda/cuda_gpu_executor.cc:937] successful NUMA node read from SysFS had negative value (-1), but there must be at least one NUMA node, so returning NUMA node zero\n",
      "2022-11-21 00:56:45.739700: I tensorflow/core/common_runtime/gpu/gpu_device.cc:1510] Created device /job:localhost/replica:0/task:0/device:GPU:0 with 13789 MB memory:  -> device: 0, name: Tesla T4, pci bus id: 0000:00:04.0, compute capability: 7.5\n",
      "2022-11-21 00:56:45.745028: I tensorflow/stream_executor/cuda/cuda_gpu_executor.cc:937] successful NUMA node read from SysFS had negative value (-1), but there must be at least one NUMA node, so returning NUMA node zero\n",
      "2022-11-21 00:56:45.745787: I tensorflow/core/common_runtime/gpu/gpu_device.cc:1510] Created device /job:localhost/replica:0/task:0/device:GPU:1 with 13789 MB memory:  -> device: 1, name: Tesla T4, pci bus id: 0000:00:05.0, compute capability: 7.5\n"
     ]
    },
    {
     "name": "stdout",
     "output_type": "stream",
     "text": [
      "Model: \"sequential\"\n",
      "_________________________________________________________________\n",
      "Layer (type)                 Output Shape              Param #   \n",
      "=================================================================\n",
      "conv2d (Conv2D)              (None, 28, 28, 32)        832       \n",
      "_________________________________________________________________\n",
      "batch_normalization (BatchNo (None, 28, 28, 32)        128       \n",
      "_________________________________________________________________\n",
      "conv2d_1 (Conv2D)            (None, 28, 28, 128)       16512     \n",
      "_________________________________________________________________\n",
      "dropout (Dropout)            (None, 28, 28, 128)       0         \n",
      "_________________________________________________________________\n",
      "max_pooling2d (MaxPooling2D) (None, 14, 14, 128)       0         \n",
      "_________________________________________________________________\n",
      "batch_normalization_1 (Batch (None, 14, 14, 128)       512       \n",
      "_________________________________________________________________\n",
      "conv2d_2 (Conv2D)            (None, 14, 14, 128)       65664     \n",
      "_________________________________________________________________\n",
      "max_pooling2d_1 (MaxPooling2 (None, 7, 7, 128)         0         \n",
      "_________________________________________________________________\n",
      "batch_normalization_2 (Batch (None, 7, 7, 128)         512       \n",
      "_________________________________________________________________\n",
      "conv2d_3 (Conv2D)            (None, 7, 7, 128)         65664     \n",
      "_________________________________________________________________\n",
      "dropout_1 (Dropout)          (None, 7, 7, 128)         0         \n",
      "_________________________________________________________________\n",
      "max_pooling2d_2 (MaxPooling2 (None, 3, 3, 128)         0         \n",
      "_________________________________________________________________\n",
      "batch_normalization_3 (Batch (None, 3, 3, 128)         512       \n",
      "_________________________________________________________________\n",
      "conv2d_4 (Conv2D)            (None, 3, 3, 64)          73792     \n",
      "_________________________________________________________________\n",
      "max_pooling2d_3 (MaxPooling2 (None, 1, 1, 64)          0         \n",
      "_________________________________________________________________\n",
      "batch_normalization_4 (Batch (None, 1, 1, 64)          256       \n",
      "_________________________________________________________________\n",
      "conv2d_5 (Conv2D)            (None, 1, 1, 64)          36928     \n",
      "_________________________________________________________________\n",
      "dropout_2 (Dropout)          (None, 1, 1, 64)          0         \n",
      "_________________________________________________________________\n",
      "batch_normalization_5 (Batch (None, 1, 1, 64)          256       \n",
      "_________________________________________________________________\n",
      "flatten (Flatten)            (None, 64)                0         \n",
      "_________________________________________________________________\n",
      "dense (Dense)                (None, 256)               16640     \n",
      "_________________________________________________________________\n",
      "dropout_3 (Dropout)          (None, 256)               0         \n",
      "_________________________________________________________________\n",
      "dense_1 (Dense)              (None, 10)                2570      \n",
      "=================================================================\n",
      "Total params: 280,778\n",
      "Trainable params: 279,690\n",
      "Non-trainable params: 1,088\n",
      "_________________________________________________________________\n"
     ]
    }
   ],
   "source": [
    "#create model for training\n",
    "model = Sequential()\n",
    "model.add(Conv2D(32 , (5,5) , strides = 1 , padding = 'same' , activation = 'relu' , input_shape = (28,28,1)))\n",
    "model.add(BatchNormalization())\n",
    "model.add(Conv2D(128 , (2,2) , strides = 1 , padding = 'same' , activation = 'relu'))\n",
    "model.add(Dropout(0.2))\n",
    "model.add(MaxPool2D((2,2)))\n",
    "model.add(BatchNormalization())\n",
    "model.add(Conv2D(128 , (2,2) , strides = 1 , padding = 'same' , activation = 'relu'))\n",
    "model.add(MaxPool2D((2,2)))\n",
    "model.add(BatchNormalization())\n",
    "model.add(Conv2D(128 , (2,2) , strides = 1 , padding = 'same' , activation = 'relu'))\n",
    "model.add(Dropout(0.1))\n",
    "model.add(MaxPool2D((2,2)))\n",
    "model.add(BatchNormalization())\n",
    "model.add(Conv2D(64 , (3,3) , strides = 1 , padding = 'same' , activation = 'relu'))\n",
    "model.add(MaxPool2D((2,2)))\n",
    "model.add(BatchNormalization())\n",
    "model.add(Conv2D(64 , (3,3) , strides = 1 , padding = 'same' , activation = 'relu'))\n",
    "model.add(Dropout(0.2))\n",
    "model.add(BatchNormalization())\n",
    "model.add(Flatten())\n",
    "model.add(Dense(units = 256 , activation = 'relu'))\n",
    "model.add(Dropout(0.2))\n",
    "model.add(Dense(units = 10 , activation = 'softmax'))\n",
    "model.compile(optimizer = 'adam' , loss = 'categorical_crossentropy' , metrics = ['accuracy'])\n",
    "model.summary()"
   ]
  },
  {
   "cell_type": "code",
   "execution_count": 20,
   "id": "8bb4028b",
   "metadata": {
    "execution": {
     "iopub.execute_input": "2022-11-21T00:56:46.303746Z",
     "iopub.status.busy": "2022-11-21T00:56:46.303439Z",
     "iopub.status.idle": "2022-11-21T01:05:01.090118Z",
     "shell.execute_reply": "2022-11-21T01:05:01.089103Z"
    },
    "papermill": {
     "duration": 494.797892,
     "end_time": "2022-11-21T01:05:01.092553",
     "exception": false,
     "start_time": "2022-11-21T00:56:46.294661",
     "status": "completed"
    },
    "tags": []
   },
   "outputs": [
    {
     "name": "stderr",
     "output_type": "stream",
     "text": [
      "2022-11-21 00:56:46.465117: I tensorflow/compiler/mlir/mlir_graph_optimization_pass.cc:185] None of the MLIR Optimization Passes are enabled (registered 2)\n"
     ]
    },
    {
     "name": "stdout",
     "output_type": "stream",
     "text": [
      "Epoch 1/37\n"
     ]
    },
    {
     "name": "stderr",
     "output_type": "stream",
     "text": [
      "2022-11-21 00:56:49.247707: I tensorflow/stream_executor/cuda/cuda_dnn.cc:369] Loaded cuDNN version 8005\n"
     ]
    },
    {
     "name": "stdout",
     "output_type": "stream",
     "text": [
      "591/591 [==============================] - 26s 22ms/step - loss: 0.2741 - accuracy: 0.9159 - val_loss: 0.1670 - val_accuracy: 0.9450\n",
      "Epoch 2/37\n",
      "591/591 [==============================] - 12s 21ms/step - loss: 0.0955 - accuracy: 0.9712 - val_loss: 0.0684 - val_accuracy: 0.9807\n",
      "Epoch 3/37\n",
      "591/591 [==============================] - 13s 22ms/step - loss: 0.0758 - accuracy: 0.9779 - val_loss: 0.0431 - val_accuracy: 0.9864\n",
      "Epoch 4/37\n",
      "591/591 [==============================] - 12s 21ms/step - loss: 0.0655 - accuracy: 0.9811 - val_loss: 0.0392 - val_accuracy: 0.9857\n",
      "Epoch 5/37\n",
      "591/591 [==============================] - 12s 21ms/step - loss: 0.0558 - accuracy: 0.9831 - val_loss: 0.0498 - val_accuracy: 0.9831\n",
      "Epoch 6/37\n",
      "591/591 [==============================] - 12s 20ms/step - loss: 0.0543 - accuracy: 0.9846 - val_loss: 0.0433 - val_accuracy: 0.9867\n",
      "Epoch 7/37\n",
      "591/591 [==============================] - 12s 21ms/step - loss: 0.0524 - accuracy: 0.9842 - val_loss: 0.0907 - val_accuracy: 0.9721\n",
      "Epoch 8/37\n",
      "591/591 [==============================] - 13s 22ms/step - loss: 0.0485 - accuracy: 0.9858 - val_loss: 0.0358 - val_accuracy: 0.9888\n",
      "Epoch 9/37\n",
      "591/591 [==============================] - 12s 21ms/step - loss: 0.0470 - accuracy: 0.9865 - val_loss: 0.0309 - val_accuracy: 0.9912\n",
      "Epoch 10/37\n",
      "591/591 [==============================] - 13s 22ms/step - loss: 0.0441 - accuracy: 0.9869 - val_loss: 0.0270 - val_accuracy: 0.9914\n",
      "Epoch 11/37\n",
      "591/591 [==============================] - 12s 21ms/step - loss: 0.0415 - accuracy: 0.9880 - val_loss: 0.0282 - val_accuracy: 0.9907\n",
      "Epoch 12/37\n",
      "591/591 [==============================] - 12s 21ms/step - loss: 0.0406 - accuracy: 0.9882 - val_loss: 0.0355 - val_accuracy: 0.9883\n",
      "Epoch 13/37\n",
      "591/591 [==============================] - 13s 22ms/step - loss: 0.0400 - accuracy: 0.9881 - val_loss: 0.0325 - val_accuracy: 0.9912\n",
      "\n",
      "Epoch 00013: ReduceLROnPlateau reducing learning rate to 0.0005000000237487257.\n",
      "Epoch 14/37\n",
      "591/591 [==============================] - 12s 21ms/step - loss: 0.0280 - accuracy: 0.9919 - val_loss: 0.0185 - val_accuracy: 0.9945\n",
      "Epoch 15/37\n",
      "591/591 [==============================] - 13s 22ms/step - loss: 0.0259 - accuracy: 0.9922 - val_loss: 0.0222 - val_accuracy: 0.9933\n",
      "Epoch 16/37\n",
      "591/591 [==============================] - 13s 21ms/step - loss: 0.0254 - accuracy: 0.9925 - val_loss: 0.0176 - val_accuracy: 0.9952\n",
      "Epoch 17/37\n",
      "591/591 [==============================] - 12s 21ms/step - loss: 0.0256 - accuracy: 0.9921 - val_loss: 0.0238 - val_accuracy: 0.9936\n",
      "Epoch 18/37\n",
      "591/591 [==============================] - 13s 22ms/step - loss: 0.0250 - accuracy: 0.9927 - val_loss: 0.0265 - val_accuracy: 0.9921\n",
      "Epoch 19/37\n",
      "591/591 [==============================] - 12s 21ms/step - loss: 0.0225 - accuracy: 0.9936 - val_loss: 0.0184 - val_accuracy: 0.9938\n",
      "\n",
      "Epoch 00019: ReduceLROnPlateau reducing learning rate to 0.0002500000118743628.\n",
      "Epoch 20/37\n",
      "591/591 [==============================] - 13s 22ms/step - loss: 0.0215 - accuracy: 0.9933 - val_loss: 0.0153 - val_accuracy: 0.9952\n",
      "Epoch 21/37\n",
      "591/591 [==============================] - 12s 21ms/step - loss: 0.0170 - accuracy: 0.9947 - val_loss: 0.0192 - val_accuracy: 0.9948\n",
      "Epoch 22/37\n",
      "591/591 [==============================] - 12s 20ms/step - loss: 0.0205 - accuracy: 0.9936 - val_loss: 0.0171 - val_accuracy: 0.9950\n",
      "\n",
      "Epoch 00022: ReduceLROnPlateau reducing learning rate to 0.0001250000059371814.\n",
      "Epoch 23/37\n",
      "591/591 [==============================] - 13s 22ms/step - loss: 0.0167 - accuracy: 0.9950 - val_loss: 0.0165 - val_accuracy: 0.9955\n",
      "Epoch 24/37\n",
      "591/591 [==============================] - 12s 21ms/step - loss: 0.0139 - accuracy: 0.9960 - val_loss: 0.0163 - val_accuracy: 0.9957\n",
      "Epoch 25/37\n",
      "591/591 [==============================] - 13s 22ms/step - loss: 0.0144 - accuracy: 0.9957 - val_loss: 0.0159 - val_accuracy: 0.9957\n",
      "Epoch 26/37\n",
      "591/591 [==============================] - 13s 21ms/step - loss: 0.0153 - accuracy: 0.9952 - val_loss: 0.0170 - val_accuracy: 0.9955\n",
      "Epoch 27/37\n",
      "591/591 [==============================] - 12s 20ms/step - loss: 0.0144 - accuracy: 0.9958 - val_loss: 0.0173 - val_accuracy: 0.9950\n",
      "\n",
      "Epoch 00027: ReduceLROnPlateau reducing learning rate to 6.25000029685907e-05.\n",
      "Epoch 28/37\n",
      "591/591 [==============================] - 13s 23ms/step - loss: 0.0129 - accuracy: 0.9961 - val_loss: 0.0159 - val_accuracy: 0.9952\n",
      "Epoch 29/37\n",
      "591/591 [==============================] - 12s 21ms/step - loss: 0.0144 - accuracy: 0.9957 - val_loss: 0.0160 - val_accuracy: 0.9950\n",
      "Epoch 30/37\n",
      "591/591 [==============================] - 13s 22ms/step - loss: 0.0122 - accuracy: 0.9966 - val_loss: 0.0175 - val_accuracy: 0.9948\n",
      "\n",
      "Epoch 00030: ReduceLROnPlateau reducing learning rate to 3.125000148429535e-05.\n",
      "Epoch 31/37\n",
      "591/591 [==============================] - 13s 21ms/step - loss: 0.0133 - accuracy: 0.9961 - val_loss: 0.0164 - val_accuracy: 0.9952\n",
      "Epoch 32/37\n",
      "591/591 [==============================] - 13s 22ms/step - loss: 0.0119 - accuracy: 0.9966 - val_loss: 0.0166 - val_accuracy: 0.9945\n",
      "Epoch 33/37\n",
      "591/591 [==============================] - 12s 21ms/step - loss: 0.0121 - accuracy: 0.9962 - val_loss: 0.0167 - val_accuracy: 0.9940\n",
      "\n",
      "Epoch 00033: ReduceLROnPlateau reducing learning rate to 1.5625000742147677e-05.\n",
      "Epoch 34/37\n",
      "591/591 [==============================] - 13s 22ms/step - loss: 0.0121 - accuracy: 0.9962 - val_loss: 0.0167 - val_accuracy: 0.9945\n",
      "Epoch 35/37\n",
      "591/591 [==============================] - 12s 21ms/step - loss: 0.0118 - accuracy: 0.9965 - val_loss: 0.0161 - val_accuracy: 0.9943\n",
      "Epoch 36/37\n",
      "591/591 [==============================] - 12s 20ms/step - loss: 0.0112 - accuracy: 0.9965 - val_loss: 0.0163 - val_accuracy: 0.9952\n",
      "\n",
      "Epoch 00036: ReduceLROnPlateau reducing learning rate to 1e-05.\n",
      "Epoch 37/37\n",
      "591/591 [==============================] - 13s 21ms/step - loss: 0.0107 - accuracy: 0.9969 - val_loss: 0.0160 - val_accuracy: 0.9955\n"
     ]
    }
   ],
   "source": [
    "training_history = model.fit(data_generator.flow(x_train,y_train, batch_size = 64),\n",
    "                             epochs = 37,\n",
    "                             validation_data=(x_val, y_val),\n",
    "                             callbacks=[learning_rate_reduction] \n",
    "                            )"
   ]
  },
  {
   "cell_type": "code",
   "execution_count": 21,
   "id": "f33af1c5",
   "metadata": {
    "execution": {
     "iopub.execute_input": "2022-11-21T01:05:01.927298Z",
     "iopub.status.busy": "2022-11-21T01:05:01.926630Z",
     "iopub.status.idle": "2022-11-21T01:05:02.162674Z",
     "shell.execute_reply": "2022-11-21T01:05:02.161599Z"
    },
    "papermill": {
     "duration": 0.632611,
     "end_time": "2022-11-21T01:05:02.165091",
     "exception": false,
     "start_time": "2022-11-21T01:05:01.532480",
     "status": "completed"
    },
    "tags": []
   },
   "outputs": [
    {
     "data": {
      "text/plain": [
       "<matplotlib.legend.Legend at 0x7f2af6a08150>"
      ]
     },
     "execution_count": 21,
     "metadata": {},
     "output_type": "execute_result"
    },
    {
     "data": {
      "image/png": "[encoded data removed]",
      "text/plain": [
       "<Figure size 432x288 with 1 Axes>"
      ]
     },
     "metadata": {
      "needs_background": "light"
     },
     "output_type": "display_data"
    }
   ],
   "source": [
    "plt.xlabel('Epoch Number')\n",
    "plt.ylabel('Accuracy')\n",
    "plt.plot(training_history.history['loss'], label='training set')\n",
    "plt.plot(training_history.history['val_loss'], label='validation set')\n",
    "plt.legend()"
   ]
  },
  {
   "cell_type": "code",
   "execution_count": 22,
   "id": "86cc4a84",
   "metadata": {
    "execution": {
     "iopub.execute_input": "2022-11-21T01:05:02.994905Z",
     "iopub.status.busy": "2022-11-21T01:05:02.994435Z",
     "iopub.status.idle": "2022-11-21T01:05:03.228999Z",
     "shell.execute_reply": "2022-11-21T01:05:03.228075Z"
    },
    "papermill": {
     "duration": 0.668391,
     "end_time": "2022-11-21T01:05:03.231016",
     "exception": false,
     "start_time": "2022-11-21T01:05:02.562625",
     "status": "completed"
    },
    "tags": []
   },
   "outputs": [
    {
     "data": {
      "text/plain": [
       "<matplotlib.legend.Legend at 0x7f2af4b22c90>"
      ]
     },
     "execution_count": 22,
     "metadata": {},
     "output_type": "execute_result"
    },
    {
     "data": {
      "image/png": "[encoded data removed]",
      "text/plain": [
       "<Figure size 432x288 with 1 Axes>"
      ]
     },
     "metadata": {
      "needs_background": "light"
     },
     "output_type": "display_data"
    }
   ],
   "source": [
    "plt.xlabel('Epoch Number')\n",
    "plt.ylabel('Accuracy')\n",
    "plt.plot(training_history.history['accuracy'], label='training set')\n",
    "plt.plot(training_history.history['val_accuracy'], label='validation set')\n",
    "plt.legend()"
   ]
  },
  {
   "cell_type": "code",
   "execution_count": 23,
   "id": "4628dc8a",
   "metadata": {
    "execution": {
     "iopub.execute_input": "2022-11-21T01:05:04.018010Z",
     "iopub.status.busy": "2022-11-21T01:05:04.017625Z",
     "iopub.status.idle": "2022-11-21T01:05:09.308503Z",
     "shell.execute_reply": "2022-11-21T01:05:09.307553Z"
    },
    "papermill": {
     "duration": 5.691727,
     "end_time": "2022-11-21T01:05:09.310829",
     "exception": false,
     "start_time": "2022-11-21T01:05:03.619102",
     "status": "completed"
    },
    "tags": []
   },
   "outputs": [
    {
     "name": "stdout",
     "output_type": "stream",
     "text": [
      "1182/1182 [==============================] - 5s 4ms/step - loss: 0.0044 - accuracy: 0.9988\n"
     ]
    }
   ],
   "source": [
    "train_loss, train_accuracy = model.evaluate(x_train, y_train)"
   ]
  },
  {
   "cell_type": "code",
   "execution_count": 24,
   "id": "e6d1fdd1",
   "metadata": {
    "execution": {
     "iopub.execute_input": "2022-11-21T01:05:10.168603Z",
     "iopub.status.busy": "2022-11-21T01:05:10.167591Z",
     "iopub.status.idle": "2022-11-21T01:05:10.173826Z",
     "shell.execute_reply": "2022-11-21T01:05:10.172666Z"
    },
    "papermill": {
     "duration": 0.41583,
     "end_time": "2022-11-21T01:05:10.177348",
     "exception": false,
     "start_time": "2022-11-21T01:05:09.761518",
     "status": "completed"
    },
    "tags": []
   },
   "outputs": [
    {
     "name": "stdout",
     "output_type": "stream",
     "text": [
      "Train loss:  0.004422479309141636\n",
      "Train accuracy:  0.9987565875053406\n"
     ]
    }
   ],
   "source": [
    "print('Train loss: ', train_loss)\n",
    "print('Train accuracy: ', train_accuracy)"
   ]
  },
  {
   "cell_type": "code",
   "execution_count": 25,
   "id": "c4cc3afe",
   "metadata": {
    "execution": {
     "iopub.execute_input": "2022-11-21T01:05:11.021502Z",
     "iopub.status.busy": "2022-11-21T01:05:11.021016Z",
     "iopub.status.idle": "2022-11-21T01:05:11.704623Z",
     "shell.execute_reply": "2022-11-21T01:05:11.703700Z"
    },
    "papermill": {
     "duration": 1.125989,
     "end_time": "2022-11-21T01:05:11.707024",
     "exception": false,
     "start_time": "2022-11-21T01:05:10.581035",
     "status": "completed"
    },
    "tags": []
   },
   "outputs": [
    {
     "name": "stdout",
     "output_type": "stream",
     "text": [
      "132/132 [==============================] - 1s 4ms/step - loss: 0.0160 - accuracy: 0.9955\n"
     ]
    }
   ],
   "source": [
    "validation_loss, validation_accuracy = model.evaluate(x_val, y_val)"
   ]
  },
  {
   "cell_type": "code",
   "execution_count": 26,
   "id": "8858cc55",
   "metadata": {
    "execution": {
     "iopub.execute_input": "2022-11-21T01:05:12.513241Z",
     "iopub.status.busy": "2022-11-21T01:05:12.512899Z",
     "iopub.status.idle": "2022-11-21T01:05:12.518403Z",
     "shell.execute_reply": "2022-11-21T01:05:12.517123Z"
    },
    "papermill": {
     "duration": 0.416768,
     "end_time": "2022-11-21T01:05:12.522555",
     "exception": false,
     "start_time": "2022-11-21T01:05:12.105787",
     "status": "completed"
    },
    "tags": []
   },
   "outputs": [
    {
     "name": "stdout",
     "output_type": "stream",
     "text": [
      "Validation loss:  0.01597544550895691\n",
      "Validation accuracy:  0.9954761862754822\n"
     ]
    }
   ],
   "source": [
    "print('Validation loss: ', validation_loss)\n",
    "print('Validation accuracy: ', validation_accuracy)"
   ]
  },
  {
   "cell_type": "code",
   "execution_count": 27,
   "id": "c65d027a",
   "metadata": {
    "execution": {
     "iopub.execute_input": "2022-11-21T01:05:13.367453Z",
     "iopub.status.busy": "2022-11-21T01:05:13.367095Z",
     "iopub.status.idle": "2022-11-21T01:05:13.448200Z",
     "shell.execute_reply": "2022-11-21T01:05:13.447368Z"
    },
    "papermill": {
     "duration": 0.484609,
     "end_time": "2022-11-21T01:05:13.450208",
     "exception": false,
     "start_time": "2022-11-21T01:05:12.965599",
     "status": "completed"
    },
    "tags": []
   },
   "outputs": [],
   "source": [
    "model_name = 'digit_recognition_cnn_v8.h5'\n",
    "model.save(model_name, save_format='h5')\n"
   ]
  },
  {
   "cell_type": "code",
   "execution_count": 28,
   "id": "c3a9dd56",
   "metadata": {
    "execution": {
     "iopub.execute_input": "2022-11-21T01:05:14.311825Z",
     "iopub.status.busy": "2022-11-21T01:05:14.311462Z",
     "iopub.status.idle": "2022-11-21T01:05:14.578739Z",
     "shell.execute_reply": "2022-11-21T01:05:14.577807Z"
    },
    "papermill": {
     "duration": 0.732672,
     "end_time": "2022-11-21T01:05:14.580771",
     "exception": false,
     "start_time": "2022-11-21T01:05:13.848099",
     "status": "completed"
    },
    "tags": []
   },
   "outputs": [],
   "source": [
    "load_model = tf.keras.models.load_model(model_name)"
   ]
  },
  {
   "cell_type": "code",
   "execution_count": 29,
   "id": "867aebb5",
   "metadata": {
    "execution": {
     "iopub.execute_input": "2022-11-21T01:05:15.382233Z",
     "iopub.status.busy": "2022-11-21T01:05:15.381887Z",
     "iopub.status.idle": "2022-11-21T01:05:18.101260Z",
     "shell.execute_reply": "2022-11-21T01:05:18.100381Z"
    },
    "papermill": {
     "duration": 3.124551,
     "end_time": "2022-11-21T01:05:18.103470",
     "exception": false,
     "start_time": "2022-11-21T01:05:14.978919",
     "status": "completed"
    },
    "tags": []
   },
   "outputs": [
    {
     "name": "stdout",
     "output_type": "stream",
     "text": [
      "predictions_one_hot: (28000, 10)\n"
     ]
    }
   ],
   "source": [
    "predictions_one_hot = load_model.predict([x_test])\n",
    "print('predictions_one_hot:', predictions_one_hot.shape)"
   ]
  },
  {
   "cell_type": "code",
   "execution_count": 30,
   "id": "0e5e0abe",
   "metadata": {
    "execution": {
     "iopub.execute_input": "2022-11-21T01:05:19.251110Z",
     "iopub.status.busy": "2022-11-21T01:05:19.250756Z",
     "iopub.status.idle": "2022-11-21T01:05:22.090280Z",
     "shell.execute_reply": "2022-11-21T01:05:22.089256Z"
    },
    "papermill": {
     "duration": 3.264339,
     "end_time": "2022-11-21T01:05:22.092472",
     "exception": false,
     "start_time": "2022-11-21T01:05:18.828133",
     "status": "completed"
    },
    "tags": []
   },
   "outputs": [
    {
     "data": {
      "text/html": [
       "<div>\n",
       "<style scoped>\n",
       "    .dataframe tbody tr th:only-of-type {\n",
       "        vertical-align: middle;\n",
       "    }\n",
       "\n",
       "    .dataframe tbody tr th {\n",
       "        vertical-align: top;\n",
       "    }\n",
       "\n",
       "    .dataframe thead th {\n",
       "        text-align: right;\n",
       "    }\n",
       "</style>\n",
       "<table border=\"1\" class=\"dataframe\">\n",
       "  <thead>\n",
       "    <tr style=\"text-align: right;\">\n",
       "      <th></th>\n",
       "      <th>ImageId</th>\n",
       "      <th>Label</th>\n",
       "    </tr>\n",
       "  </thead>\n",
       "  <tbody>\n",
       "    <tr>\n",
       "      <th>0</th>\n",
       "      <td>1</td>\n",
       "      <td>2</td>\n",
       "    </tr>\n",
       "    <tr>\n",
       "      <th>1</th>\n",
       "      <td>2</td>\n",
       "      <td>0</td>\n",
       "    </tr>\n",
       "    <tr>\n",
       "      <th>2</th>\n",
       "      <td>3</td>\n",
       "      <td>9</td>\n",
       "    </tr>\n",
       "    <tr>\n",
       "      <th>3</th>\n",
       "      <td>4</td>\n",
       "      <td>0</td>\n",
       "    </tr>\n",
       "    <tr>\n",
       "      <th>4</th>\n",
       "      <td>5</td>\n",
       "      <td>3</td>\n",
       "    </tr>\n",
       "  </tbody>\n",
       "</table>\n",
       "</div>"
      ],
      "text/plain": [
       "   ImageId  Label\n",
       "0        1      2\n",
       "1        2      0\n",
       "2        3      9\n",
       "3        4      0\n",
       "4        5      3"
      ]
     },
     "execution_count": 30,
     "metadata": {},
     "output_type": "execute_result"
    }
   ],
   "source": [
    "test_pred = pd.DataFrame( load_model.predict([x_test]))\n",
    "test_pred = pd.DataFrame(test_pred.idxmax(axis = 1))\n",
    "test_pred.index.name = 'ImageId'\n",
    "test_pred = test_pred.rename(columns = {0: 'Label'}).reset_index()\n",
    "test_pred['ImageId'] = test_pred['ImageId'] + 1\n",
    "\n",
    "test_pred.head()"
   ]
  },
  {
   "cell_type": "code",
   "execution_count": 31,
   "id": "a228ad2c",
   "metadata": {
    "execution": {
     "iopub.execute_input": "2022-11-21T01:05:22.927985Z",
     "iopub.status.busy": "2022-11-21T01:05:22.927630Z",
     "iopub.status.idle": "2022-11-21T01:05:22.957866Z",
     "shell.execute_reply": "2022-11-21T01:05:22.956931Z"
    },
    "papermill": {
     "duration": 0.470728,
     "end_time": "2022-11-21T01:05:22.960050",
     "exception": false,
     "start_time": "2022-11-21T01:05:22.489322",
     "status": "completed"
    },
    "tags": []
   },
   "outputs": [],
   "source": [
    "test_pred.to_csv('submission.csv', index = False)"
   ]
  },
  {
   "cell_type": "code",
   "execution_count": null,
   "id": "9859a773",
   "metadata": {
    "papermill": {
     "duration": 0.399391,
     "end_time": "2022-11-21T01:05:23.753050",
     "exception": false,
     "start_time": "2022-11-21T01:05:23.353659",
     "status": "completed"
    },
    "tags": []
   },
   "outputs": [],
   "source": []
  }
 ],
 "metadata": {
  "kernelspec": {
   "display_name": "Python 3",
   "language": "python",
   "name": "python3"
  },
  "language_info": {
   "codemirror_mode": {
    "name": "ipython",
    "version": 3
   },
   "file_extension": ".py",
   "mimetype": "text/x-python",
   "name": "python",
   "nbconvert_exporter": "python",
   "pygments_lexer": "ipython3",
   "version": "3.7.12"
  },
  "papermill": {
   "default_parameters": {},
   "duration": 556.498616,
   "end_time": "2022-11-21T01:05:27.475024",
   "environment_variables": {},
   "exception": null,
   "input_path": "__notebook__.ipynb",
   "output_path": "__notebook__.ipynb",
   "parameters": {},
   "start_time": "2022-11-21T00:56:10.976408",
   "version": "2.3.4"
  }
 },
 "nbformat": 4,
 "nbformat_minor": 5
}
